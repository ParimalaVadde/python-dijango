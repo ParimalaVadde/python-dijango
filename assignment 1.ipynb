{
 "cells": [
  {
   "cell_type": "markdown",
   "metadata": {},
   "source": [
    "# 1.In the pre-smartphone era,each number key is assigned a subset of the alphabet {a,b,…,z}.\n",
    "\n",
    "- 2 is assigned {a,b,c}, \n",
    "- 3 is assigned {d,e,f} \n",
    "- 4 is assigned {g,h,i} \n",
    "- 5 is assigned {j,k,l}\n",
    "- 6 is assigned {m,n,o} \n",
    "- 7 is assigned {p,q,r,s}\n",
    "- 8 is assigned {t,u,v} \n",
    "- 9 is assigned {w,x,y,z}\n",
    "\n",
    "Write a function numbers_to_chars() to find the characters generated using key 9999335533. Output should be \"zeke\"\n",
    "\n",
    "Function Name : numbers_to_chars() Input : Integer number sequence Output : Str"
   ]
  },
  {
   "cell_type": "code",
   "execution_count": 1,
   "metadata": {},
   "outputs": [],
   "source": [
    "d = {2 :['a','b','c'],3 :['d','e','f'],4 : ['g','h','i'],5 : ['j','k','l'],6 : ['m','n','o'],7 :['p','q','r','s'],\n",
    "     8 : ['t','u','v'],9:['w','x','y','z']}\n",
    " \n",
    "def nums_to_char(s):\n",
    "    count = 1\n",
    "    output = ''\n",
    "    length = len(s)\n",
    "    for i in range(1,length):\n",
    "        if s[i] != s[i-1]:\n",
    "            output += d[int(s[i-1])][count-1]\n",
    "            count = 1\n",
    "        elif i == length-1:\n",
    "            output += d[int(s[i-1])][count]\n",
    "        else:\n",
    "            count += 1\n",
    "    print(output)"
   ]
  },
  {
   "cell_type": "code",
   "execution_count": 2,
   "metadata": {},
   "outputs": [
    {
     "name": "stdout",
     "output_type": "stream",
     "text": [
      "zeke\n"
     ]
    }
   ],
   "source": [
    "s = '9999335533'\n",
    "nums_to_char(s)"
   ]
  },
  {
   "cell_type": "markdown",
   "metadata": {},
   "source": [
    "2.Given a dict of tickets(\"to\":\"from\")\n",
    "\n",
    "{\"Chennai\":\"Banglore\",\"Bombay\":\"Delhi\",\"Goa\":\"Chennai\",\"Delhi\":\"Goa\"} find out the sequence of travel.\n",
    "\n",
    "Expected Output : Bombay->Delhi, Delhi->Goa, Goa->Chennai, Chennai->Banglore\n",
    "\n",
    "Function Name : travel_sequence Input : dict Output : dict"
   ]
  },
  {
   "cell_type": "code",
   "execution_count": 5,
   "metadata": {},
   "outputs": [
    {
     "name": "stdout",
     "output_type": "stream",
     "text": [
      "['Bombay->Delhi', 'Delhi->Goa', 'Goa->Chennai', 'Chennai->Banglore']\n"
     ]
    }
   ],
   "source": [
    "d = {\"Chennai\":\"Banglore\",\"Bombay\":\"Delhi\",\"Goa\":\"Chennai\",\"Delhi\":\"Goa\"}\n",
    "\n",
    "\n",
    "def getkey(k):\n",
    "    for x,y in d.items():\n",
    "        if k == x:\n",
    "            return x\n",
    "    return\n",
    "\n",
    "for key,value in d.items():\n",
    "    l = []\n",
    "    l.append(key+ '->' +value)\n",
    "    nextkey = value\n",
    "    for i in range(len(d)-1):\n",
    "        reqkey = getkey(nextkey)\n",
    "        if reqkey in d.keys():\n",
    "            l.append(reqkey+'->'+d[reqkey])\n",
    "            nextkey = d[reqkey]\n",
    "    if len(l) == len(d):\n",
    "        print(l)\n",
    "        break"
   ]
  },
  {
   "cell_type": "markdown",
   "metadata": {},
   "source": [
    "3.Given a dictionary that associates the names of states with a list of the names of cities that appear in it,write a \n",
    "program that creates a new dictionary that associates the name of a city with the list of states that it appears in.\n",
    "\n",
    "As an example, if the first dictionary is\n",
    "\n",
    "Input : states = {'New Hampshire': ['Concord', 'Hanover'],\n",
    "\n",
    "'Massachusetts': ['Boston', 'Concord', 'Springfield'],\n",
    "\n",
    "'Illinois': ['Chicago', 'Springfield', 'Peoria'] }\n",
    "\n",
    "Output:\n",
    "\n",
    "cities = {'Hanover': ['New Hampshire'],\n",
    "\n",
    "'Chicago': ['Illinois'],'Boston': ['Massachusetts'],\n",
    "\n",
    "'Peoria': ['Illinois'],'Concord': ['New Hampshire','Massachusetts'],\n",
    "\n",
    "'Springfield': ['Massachusetts', 'Illinois'] }\n",
    "\n",
    "Function Name : city_with_states Input : dict Output : dict"
   ]
  },
  {
   "cell_type": "code",
   "execution_count": 6,
   "metadata": {},
   "outputs": [
    {
     "name": "stdout",
     "output_type": "stream",
     "text": [
      "{'Springfield': ['Massachusetts', 'Illinois'], 'Chicago': ['Illinois'], 'Hanover': ['New Hampshire'], 'Concord': ['New Hampshire', 'Massachusetts'], 'Boston': ['Massachusetts'], 'Peoria': ['Illinois']}\n"
     ]
    }
   ],
   "source": [
    "states = {'New Hampshire': ['Concord', 'Hanover'],\n",
    "          'Massachusetts': ['Boston', 'Concord', 'Springfield'],\n",
    "          'Illinois': ['Chicago', 'Springfield', 'Peoria'] }\n",
    "          \n",
    "cities = {}\n",
    "unique_values = set()\n",
    "for x,y in states.items():\n",
    "    for i in y:\n",
    "        unique_values.add(i)\n",
    "unique_values = list(unique_values)\n",
    "for s in unique_values:\n",
    "    newlist=[]\n",
    "    for p,q in states.items():\n",
    "        if s in q:\n",
    "            newlist.append(p)\n",
    "    cities[s] = newlist\n",
    "print(cities)\n"
   ]
  },
  {
   "cell_type": "code",
   "execution_count": 7,
   "metadata": {},
   "outputs": [
    {
     "name": "stdout",
     "output_type": "stream",
     "text": [
      "{'Concord': ['New Hampshire', 'Massachusetts'], 'Hanover': ['New Hampshire'], 'Boston': ['Massachusetts'], 'Springfield': ['Massachusetts', 'Illinois'], 'Chicago': ['Illinois'], 'Peoria': ['Illinois']}\n"
     ]
    }
   ],
   "source": [
    "cities = {}\n",
    "unique_val = []\n",
    "for x,y in states.items():\n",
    "    for i in y:\n",
    "        if i not in unique_val:\n",
    "            unique_val.append(i)\n",
    "unique_val = list(unique_val)\n",
    "for c in unique_val:\n",
    "    new_list = []\n",
    "    for p,q in states.items():\n",
    "        if c in q:\n",
    "            new_list.append(p)\n",
    "    cities[c] = new_list\n",
    "    \n",
    "print(cities)"
   ]
  },
  {
   "cell_type": "markdown",
   "metadata": {},
   "source": [
    "4.How do you check if a given String contains valid parentheses? Given a string containing just the characters \n",
    "'(', ')', '{', '}', '[' and ']', write a program in python to check if the input string is valid. The brackets \n",
    "must close in the correct order, \"()\" and \"()[]{}\" are all valid but \"(]\" and \"([)]\" are not.\n",
    "\n",
    "Function Name : check_parentheses Input : str Output : True/False"
   ]
  },
  {
   "cell_type": "code",
   "execution_count": 1,
   "metadata": {},
   "outputs": [
    {
     "name": "stdout",
     "output_type": "stream",
     "text": [
      "Balanced\n"
     ]
    }
   ],
   "source": [
    "\n",
    "\n",
    "def check_parentheses(expr):\n",
    "    l = []\n",
    "    for i in range(len(expr)):\n",
    "        if expr[i] == '(' or expr[i] == '{' or expr[i] == '[':\n",
    "            l.append(expr[i])\n",
    "        else:\n",
    "            if len(l) == 0:\n",
    "                return False\n",
    "            \n",
    "            if expr[i] == '}':\n",
    "                x =  l.pop()\n",
    "                if x == ')' or x == ']':\n",
    "                    return False\n",
    "            elif expr[i] == ')':\n",
    "                x =  l.pop()\n",
    "                if x == '}' or x == ']':\n",
    "                    return False\n",
    "            elif expr[i] == ']':\n",
    "                x =  l.pop()\n",
    "                if x == '}' or x == ')':\n",
    "                    return False\n",
    "\n",
    "    if len(l):\n",
    "        return False\n",
    "    else:\n",
    "        return True\n",
    "\n",
    "if __name__ == \"__main__\" :  \n",
    "    expr = \"{()}[]\" \n",
    "    if (check_parentheses(expr)) : \n",
    "        print(\"Balanced\")\n",
    "    else : \n",
    "        print(\"Not Balanced\") \n",
    "        "
   ]
  },
  {
   "cell_type": "code",
   "execution_count": null,
   "metadata": {},
   "outputs": [],
   "source": []
  },
  {
   "cell_type": "markdown",
   "metadata": {},
   "source": [
    "5.Write a program to convert Integer to Roman String. For example, if a given integer is 5 then your program should \n",
    "print \"V\".\n",
    "\n",
    "Function Name : int_roman Input : int Output : str"
   ]
  },
  {
   "cell_type": "code",
   "execution_count": 32,
   "metadata": {},
   "outputs": [
    {
     "name": "stdout",
     "output_type": "stream",
     "text": [
      "MCMXCVI\n"
     ]
    }
   ],
   "source": [
    "d = {1000:'M',900:'CM',500:'D',400:'CD',100:'C',90:'XC',50:'L',40:'XL',10:'X',9:'IX',5:'V',4:'IV',1:'I'}\n",
    "num = 1996\n",
    "output = ''\n",
    "for k,v in d.items():\n",
    "    if k <= num:\n",
    "        output += v\n",
    "        num -= k\n",
    "print(output)        "
   ]
  },
  {
   "cell_type": "code",
   "execution_count": 27,
   "metadata": {},
   "outputs": [
    {
     "data": {
      "text/plain": [
       "'V'"
      ]
     },
     "execution_count": 27,
     "metadata": {},
     "output_type": "execute_result"
    }
   ],
   "source": []
  },
  {
   "cell_type": "markdown",
   "metadata": {},
   "source": [
    "6.Write a program utility that counts the number of lines of actual python code in a. For the purpose of this exercise,\n",
    "a line is counted if it contains something other than whitespace or text in a comment.remember that comment start \n",
    "sequences that appear inside python strings should be ignored.\n",
    "\n",
    "Function Name : count_code_lines Input : str Output : int\n",
    "            \n",
    "            \n",
    "input_code = \"\"\"\n",
    "#Linear search implementation\n",
    "#Takes list and a key as input and returns True or False as answer\n",
    "def linear_saerch(l,key):\n",
    "    for value in l:\n",
    "        if key == value:\n",
    "            return True #Return True is key exist\n",
    "    else:\n",
    "        return False #Return False if key does not exist\n",
    "\n",
    "l = [100,200,300,400,500,600]\n",
    "key = 500\n",
    "result = linear_search(l,key)\n",
    "print(result)\n",
    "\"\"\""
   ]
  },
  {
   "cell_type": "code",
   "execution_count": 34,
   "metadata": {},
   "outputs": [],
   "source": [
    "ip = \"\"\"\n",
    "#Linear search implementation\n",
    "#Takes list and a key as input and returns True or False as answer\n",
    "def linear_saerch(l,key):\n",
    "    for value in l:\n",
    "        if key == value:\n",
    "            return True #Return True is key exist\n",
    "    else:\n",
    "        return False #Return False if key does not exist\n",
    "\n",
    "l = [100,200,300,400,500,600]\n",
    "key = 500\n",
    "result = linear_search(l,key)\n",
    "print(result)\n",
    "\"\"\""
   ]
  },
  {
   "cell_type": "code",
   "execution_count": 38,
   "metadata": {},
   "outputs": [
    {
     "name": "stdout",
     "output_type": "stream",
     "text": [
      "10\n"
     ]
    }
   ],
   "source": [
    "lines = ip.split(\"\\n\")\n",
    "count = 0\n",
    "for line in lines:\n",
    "    if line.startswith('#') == False and line.strip(' ') != '':\n",
    "        count += 1\n",
    "print(count)"
   ]
  },
  {
   "cell_type": "markdown",
   "metadata": {},
   "source": [
    "7.Write a program to check the strength of a supplied password\n",
    "\n",
    "The length of the password must be at least 8 characters in length The password must contain at least 1 capital letter The password must contain at least 1 digit The password must contain at least 1 special character and allowed special \n",
    "characters are (!,@,#,$,&)\n",
    "\n",
    "We need to provide feedback to the user about the strength of their password\n",
    "\n",
    "Provide the user with a list of reasons why their password is 'weak'\n",
    "Function Name : check_password_strength Input : str Output : tuple (str,list) eg (\"Weak\",[\"The password must contain \n",
    "at least 1 capital letter\"])"
   ]
  },
  {
   "cell_type": "code",
   "execution_count": 42,
   "metadata": {},
   "outputs": [],
   "source": [
    "pwd = 'Parim@1a'\n",
    "import re\n",
    "def check_password_strength(pwd):\n",
    "    if len(pwd) < 8:\n",
    "        return tuple(\"weak\",['length of the password is less than 8'])\n",
    "    elif len(re.findall(\"[@!$#&]\",pwd)) == 0:\n",
    "        return tuple(\"weak\",['password does not contain special charecter'])\n",
    "    elif len(re.findall(\"[A-Z]\",pwd)) == 0:\n",
    "        return tuple(\"weak\",['password must contain atleast upper case'])\n",
    "    elif len(re.findall(\"[0-9]\",pwd))== 0:\n",
    "        return tuple(\"weak,['password must contain atleast must digit']\")\n",
    "    else:\n",
    "        print(\"valid\")"
   ]
  },
  {
   "cell_type": "code",
   "execution_count": 43,
   "metadata": {},
   "outputs": [
    {
     "name": "stdout",
     "output_type": "stream",
     "text": [
      "valid\n"
     ]
    }
   ],
   "source": [
    "check_password_strength(pwd)"
   ]
  },
  {
   "cell_type": "markdown",
   "metadata": {},
   "source": [
    "8.Check if given sentence is syntactically correct or not\n",
    "A simple sentence if syntactically correct if it fulfills given rules. The following are given rules.\n",
    "\n",
    "Sentence must start with a Uppercase character (e.g. Noun/ I/ We/ He etc.)\n",
    "There must be spaces between words.\n",
    "Then the sentence must end with a full stop(.).\n",
    "Two continuous spaces are not allowed.\n",
    "Two continuous uppercase characters are not allowed.\n",
    "However the sentence can end after an uppercase character.\n",
    "Function Name : check_sentence Input : str Output : tuple (True/False,list) eg (False,[\"There must be spaces between \n",
    "words.\"])"
   ]
  },
  {
   "cell_type": "code",
   "execution_count": 44,
   "metadata": {},
   "outputs": [],
   "source": [
    "def checkstatement(s):\n",
    "    length = len(s)\n",
    "    if s[0] < 'A' or s[0] > 'Z':\n",
    "        return False\n",
    "    if s[-1] != '.':\n",
    "        return False\n",
    "    pre_state = 0\n",
    "    cur_state = 0\n",
    "    \n",
    "    index = 1\n",
    "    while(s[index]):\n",
    "        if s[index] >= 'A' and s[index] <= 'Z':\n",
    "            cur_state = 0\n",
    "        elif s[index] == ' ':\n",
    "            cur_state = 1\n",
    "        elif s[index] >= 'a' and s[index] <= 'z':\n",
    "            cur_state = 2\n",
    "        elif s[index] == '.':\n",
    "            cur_state = 3\n",
    "        \n",
    "        if pre_state == cur_state and cur_state != 2:\n",
    "            return False\n",
    "        if pre_state == 2  and cur_state == 0:\n",
    "            return False\n",
    "        if cur_state == 3 and pre_state != 1:\n",
    "            return True\n",
    "        pre_state = cur_state\n",
    "        index = index+1\n",
    "    return False"
   ]
  },
  {
   "cell_type": "code",
   "execution_count": 53,
   "metadata": {},
   "outputs": [
    {
     "name": "stdout",
     "output_type": "stream",
     "text": [
      "I love cinema.is correct\n",
      "The vertex is S.is correct\n",
      "I am single.is correct\n",
      "My name is KG.is incorrect\n",
      "I lovE cinema.is incorrect\n",
      "GeeksQuiz. is a quiz site.is incorrect\n",
      "I love Geeksquiz and Geeksforgeeks.is correct\n",
      "  You are my friend.is incorrect\n",
      "I love cinemais incorrect\n"
     ]
    }
   ],
   "source": [
    "string = [\"I love cinema.\", \"The vertex is S.\", \n",
    "            \"I am single.\", \"My name is KG.\", \n",
    "            \"I lovE cinema.\", \"GeeksQuiz. is a quiz site.\", \n",
    "            \"I love Geeksquiz and Geeksforgeeks.\", \n",
    "            \"  You are my friend.\", \"I love cinema\"]\n",
    "string_size = len(string)\n",
    "for i in range(string_size):\n",
    "    if checkstatement(string[i]):\n",
    "        print(string[i] + \"is correct\")\n",
    "    else:\n",
    "        print(string[i] + \"is incorrect\")"
   ]
  },
  {
   "cell_type": "markdown",
   "metadata": {},
   "source": [
    "9.Given an array arr[] of integers and an integer K, the task is to find the greatest contiguous sub-array of size K.\n",
    "Sub-array X is said to be greater than sub-array Y if the first non-matching element in both the sub-arrays has a\n",
    "greater value in X than in Y.\n",
    "\n",
    "For example : Input: arr[] = {1, 4, 3, 2, 5}, K = 4 Output: 4 3 2 5 Two subarrays are {1, 4, 3, 2} and {4, 3, 2, 5}.\n",
    "            First non-matching element from array1 and array 2 : 1 and 4 as 4 is greater Hence, the greater one \n",
    "            is {4, 3, 2, 5}\n",
    "\n",
    "Function Name : greatest_sub_array() Input : list Output : list"
   ]
  },
  {
   "cell_type": "code",
   "execution_count": 54,
   "metadata": {},
   "outputs": [],
   "source": [
    "def firstsubarray(a,k,n):\n",
    "    vec = []\n",
    "    for i in range(n-k+1):\n",
    "        temp = []\n",
    "        for j in range(i,i+k):\n",
    "            temp.append(a[j])\n",
    "        vec.append(temp)\n",
    "    vec = sorted(vec)\n",
    "    return vec[len(vec)-1]"
   ]
  },
  {
   "cell_type": "code",
   "execution_count": 56,
   "metadata": {},
   "outputs": [
    {
     "name": "stdout",
     "output_type": "stream",
     "text": [
      "4 3 2 5 "
     ]
    }
   ],
   "source": [
    "a = [1, 4, 3, 2, 5]\n",
    "k = 4\n",
    "n = len(a)\n",
    "ans = firstsubarray(a,k,n)\n",
    "\n",
    "for p in ans:\n",
    "    print(p,end=\" \")"
   ]
  },
  {
   "cell_type": "markdown",
   "metadata": {},
   "source": [
    "10)Given a list of N integers. The task is to eliminate the minimum number of elements such that in the resulting list\n",
    "\n",
    "the sum of any two adjacent values is even.\n",
    "\n",
    "Numbers = [1, 3, 5, 4, 2] Output = [1, 3, 5] Total elements removed 2 Elements to be removed [4,2]\n",
    "\n",
    "Function Name : adj_sum_even() Input : list Output : tuple(int,list)"
   ]
  },
  {
   "cell_type": "code",
   "execution_count": 5,
   "metadata": {},
   "outputs": [],
   "source": [
    "def adj_sum_even(a,n):\n",
    "    oddcount = 0\n",
    "    for i in range(n):\n",
    "        if (a[i] % 2) != 0:\n",
    "            oddcount += 1\n",
    "    evencount = n - oddcount\n",
    "    if oddcount < evencount:\n",
    "        new_l = [j for j in a if j%2 == 0]\n",
    "    else:\n",
    "        new_l = [j for j in a if j%2 != 0]\n",
    "    return tuple((new_l,n-len(new_l))) "
   ]
  },
  {
   "cell_type": "code",
   "execution_count": 6,
   "metadata": {},
   "outputs": [
    {
     "data": {
      "text/plain": [
       "([1, 3, 5], 2)"
      ]
     },
     "execution_count": 6,
     "metadata": {},
     "output_type": "execute_result"
    }
   ],
   "source": [
    "a = [1, 3, 5, 4, 2]\n",
    "n = len(a)\n",
    "\n",
    "adj_sum_even(a,n)"
   ]
  },
  {
   "cell_type": "code",
   "execution_count": null,
   "metadata": {},
   "outputs": [],
   "source": []
  }
 ],
 "metadata": {
  "kernelspec": {
   "display_name": "Python 3",
   "language": "python",
   "name": "python3"
  },
  "language_info": {
   "codemirror_mode": {
    "name": "ipython",
    "version": 3
   },
   "file_extension": ".py",
   "mimetype": "text/x-python",
   "name": "python",
   "nbconvert_exporter": "python",
   "pygments_lexer": "ipython3",
   "version": "3.7.0a4"
  }
 },
 "nbformat": 4,
 "nbformat_minor": 2
}
