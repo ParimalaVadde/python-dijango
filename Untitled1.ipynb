{
 "cells": [
  {
   "cell_type": "code",
   "execution_count": 3,
   "metadata": {},
   "outputs": [
    {
     "name": "stdout",
     "output_type": "stream",
     "text": [
      "{(1, 10): 0, (11, 20): 0, (21, 30): 0, (31, 40): 0, (41, 50): 0, (51, 60): 0, (61, 70): 0, (71, 80): 0, (81, 90): 0, (91, 100): 0}\n"
     ]
    }
   ],
   "source": [
    "d={}\n",
    "l1=range(1,92,10)\n",
    "l2=range(10,101,10)\n",
    "for key in zip(l1,l2):\n",
    "    d.setdefault(key,0)\n",
    "print(d)"
   ]
  },
  {
   "cell_type": "code",
   "execution_count": 6,
   "metadata": {},
   "outputs": [
    {
     "name": "stdout",
     "output_type": "stream",
     "text": [
      "{(1, 10): 0, (11, 20): 0, (21, 30): 0, (31, 40): 0, (41, 50): 1, (51, 60): 1, (61, 70): 1, (71, 80): 1, (81, 90): 1, (91, 100): 1}\n"
     ]
    }
   ],
   "source": [
    "d={(1, 10): 0, (11, 20): 0, (21, 30): 0, (31, 40): 0, (41, 50): 0, (51, 60): 0, (61, 70): 0, (71, 80): 0, (81, 90): 0, (91, 100): 0}\n",
    "num1=45\n",
    "for key in d:\n",
    "    if key[1]>num1:\n",
    "        d[key]+=1\n",
    "print(d)"
   ]
  },
  {
   "cell_type": "code",
   "execution_count": 6,
   "metadata": {},
   "outputs": [
    {
     "name": "stdout",
     "output_type": "stream",
     "text": [
      "<class 'tuple'>\n"
     ]
    }
   ],
   "source": [
    "a = 10,20\n",
    "print(type(a))"
   ]
  },
  {
   "cell_type": "code",
   "execution_count": 1,
   "metadata": {},
   "outputs": [],
   "source": [
    "def createStudentData(list_stud,**kwargs):\n",
    "    list_stud.append(kwargs)"
   ]
  },
  {
   "cell_type": "code",
   "execution_count": 2,
   "metadata": {},
   "outputs": [],
   "source": [
    "list_stud = []\n",
    "createStudentData(list_stud,name=\"vaish\",maths = 50,english = 50)"
   ]
  },
  {
   "cell_type": "code",
   "execution_count": 3,
   "metadata": {},
   "outputs": [
    {
     "data": {
      "text/plain": [
       "[{'name': 'vaish', 'maths': 50, 'english': 50}]"
      ]
     },
     "execution_count": 3,
     "metadata": {},
     "output_type": "execute_result"
    }
   ],
   "source": [
    "list_stud"
   ]
  },
  {
   "cell_type": "code",
   "execution_count": 4,
   "metadata": {},
   "outputs": [],
   "source": [
    "createStudentData(list_stud,name=\"pari\",maths = 40,english = 45)\n",
    "createStudentData(list_stud,name=\"esh\",maths = 42,english = 41)\n",
    "createStudentData(list_stud,name=\"rubby\",maths = 42,english = 40)"
   ]
  },
  {
   "cell_type": "code",
   "execution_count": 5,
   "metadata": {},
   "outputs": [
    {
     "data": {
      "text/plain": [
       "[{'name': 'vaish', 'maths': 50, 'english': 50},\n",
       " {'name': 'pari', 'maths': 40, 'english': 45},\n",
       " {'name': 'esh', 'maths': 42, 'english': 41},\n",
       " {'name': 'rubby', 'maths': 42, 'english': 40}]"
      ]
     },
     "execution_count": 5,
     "metadata": {},
     "output_type": "execute_result"
    }
   ],
   "source": [
    "list_stud"
   ]
  },
  {
   "cell_type": "code",
   "execution_count": 10,
   "metadata": {},
   "outputs": [
    {
     "ename": "SyntaxError",
     "evalue": "invalid syntax (<ipython-input-10-83029032afa4>, line 1)",
     "output_type": "error",
     "traceback": [
      "\u001b[1;36m  File \u001b[1;32m\"<ipython-input-10-83029032afa4>\"\u001b[1;36m, line \u001b[1;32m1\u001b[0m\n\u001b[1;33m    def getTopper(list_stud)\u001b[0m\n\u001b[1;37m                            ^\u001b[0m\n\u001b[1;31mSyntaxError\u001b[0m\u001b[1;31m:\u001b[0m invalid syntax\n"
     ]
    }
   ],
   "source": [
    "def getTopper(list_stud)\n",
    "    sum=0\n",
    "    for stu in list_stud:\n",
    "        d = stud['maths'] + stud['english']\n",
    "        print(d)"
   ]
  },
  {
   "cell_type": "code",
   "execution_count": 16,
   "metadata": {},
   "outputs": [
    {
     "name": "stdout",
     "output_type": "stream",
     "text": [
      "{(1, 10): 0, (11, 20): 0, (21, 30): 0, (31, 40): 0, (41, 50): 0, (51, 60): 0, (61, 70): 0, (71, 80): 0, (81, 90): 0, (91, 100): 0}\n"
     ]
    }
   ],
   "source": [
    "d={}\n",
    "l1 = range(1,92,10)\n",
    "l2 = range(10,101,10)\n",
    "for i in zip(l1,l2):\n",
    "    d.setdefault(i,0)\n",
    "print(d)"
   ]
  },
  {
   "cell_type": "code",
   "execution_count": 21,
   "metadata": {},
   "outputs": [
    {
     "name": "stdout",
     "output_type": "stream",
     "text": [
      "{(1, 10): 0, (11, 20): 1, (21, 30): 0, (31, 40): 0, (41, 50): 1, (51, 60): 1, (61, 70): 0, (71, 80): 1, (81, 90): 0, (91, 100): 0}\n"
     ]
    }
   ],
   "source": [
    "d = {(1, 10): 0, (11, 20): 0, (21, 30): 0, (31, 40): 0, (41, 50): 0, (51, 60): 0, (61, 70): 0, (71, 80): 0, \n",
    "     (81, 90): 0, (91, 100): 0}\n",
    "l1 = [14,15,56,78,48,21]\n",
    "for num1 in l1:\n",
    "    for key,value in d.items():\n",
    "        if num1 > key[0] and num1 < key[1]:\n",
    "            d[key] = 1\n",
    "print(d)\n"
   ]
  },
  {
   "cell_type": "code",
   "execution_count": 26,
   "metadata": {},
   "outputs": [
    {
     "name": "stdout",
     "output_type": "stream",
     "text": [
      "ABC\n",
      "{'email': 'abc@gmail.com', 'age': 50}\n"
     ]
    }
   ],
   "source": [
    "d = {\"email\":\"abc@gmail.com\",\"name\":\"ABC\",\"age\":50}\n",
    "r=d.pop(\"name\")\n",
    "print(r)\n",
    "print(d)\n"
   ]
  },
  {
   "cell_type": "code",
   "execution_count": 27,
   "metadata": {},
   "outputs": [
    {
     "name": "stdout",
     "output_type": "stream",
     "text": [
      "<class 'set'>\n",
      "{1, 2, 3, 4, 7, 9}\n"
     ]
    }
   ],
   "source": [
    "s = {1,3,4,9,7,2,4,3,2}\n",
    "print(type(s))\n",
    "print(s)"
   ]
  },
  {
   "cell_type": "code",
   "execution_count": 31,
   "metadata": {},
   "outputs": [
    {
     "name": "stdout",
     "output_type": "stream",
     "text": [
      "{70, 40, 10, 50, 20, 60, 30}\n",
      "[10, 20, 30, 40, 50, 60, 70]\n"
     ]
    }
   ],
   "source": [
    "s = {10,20,70,30,40,50,60}\n",
    "print(s)\n",
    "p = sorted(s)\n",
    "print(p)"
   ]
  },
  {
   "cell_type": "code",
   "execution_count": 35,
   "metadata": {},
   "outputs": [
    {
     "name": "stdout",
     "output_type": "stream",
     "text": [
      "{70, 10, 80, 20, 90, 30}\n"
     ]
    }
   ],
   "source": [
    "s1 = {10,20,30,40,50,60}\n",
    "s2 = {40,50,60,70,80,90}\n",
    "\n",
    "s3 = s2.symmetric_difference(s1)\n",
    "print(s3)"
   ]
  },
  {
   "cell_type": "code",
   "execution_count": 36,
   "metadata": {},
   "outputs": [],
   "source": [
    "import random"
   ]
  },
  {
   "cell_type": "code",
   "execution_count": 37,
   "metadata": {},
   "outputs": [
    {
     "name": "stdout",
     "output_type": "stream",
     "text": [
      "0.12698624527446367\n"
     ]
    }
   ],
   "source": [
    "print(random.random())"
   ]
  },
  {
   "cell_type": "code",
   "execution_count": 51,
   "metadata": {},
   "outputs": [
    {
     "name": "stdout",
     "output_type": "stream",
     "text": [
      "6\n"
     ]
    }
   ],
   "source": [
    "dice = [1,2,3,4,5,6]\n",
    "print(random.choice(dice))"
   ]
  },
  {
   "cell_type": "code",
   "execution_count": 121,
   "metadata": {},
   "outputs": [
    {
     "name": "stdout",
     "output_type": "stream",
     "text": [
      "20\n"
     ]
    }
   ],
   "source": [
    "print(random.randint(10,20))"
   ]
  },
  {
   "cell_type": "code",
   "execution_count": 7,
   "metadata": {},
   "outputs": [],
   "source": [
    "def studentsList(list_student,**info):\n",
    "    list_student.append(info)"
   ]
  },
  {
   "cell_type": "code",
   "execution_count": 8,
   "metadata": {},
   "outputs": [],
   "source": [
    "list_student = []\n",
    "studentsList(list_student,name = 'abc',english = 45,maths = 42,science = 46)"
   ]
  },
  {
   "cell_type": "code",
   "execution_count": 9,
   "metadata": {},
   "outputs": [],
   "source": [
    "studentsList(list_student,name = 'def',english = 45,maths = 42,science = 46)\n",
    "studentsList(list_student,name = 'hal',english = 43,maths = 49,science = 41)\n",
    "studentsList(list_student,name = 'vpb',english = 45,maths = 42,science = 50)"
   ]
  },
  {
   "cell_type": "code",
   "execution_count": 10,
   "metadata": {},
   "outputs": [
    {
     "data": {
      "text/plain": [
       "[{'name': 'abc', 'english': 45, 'maths': 42, 'science': 46},\n",
       " {'name': 'def', 'english': 45, 'maths': 42, 'science': 46},\n",
       " {'name': 'hal', 'english': 43, 'maths': 49, 'science': 41},\n",
       " {'name': 'vpb', 'english': 45, 'maths': 42, 'science': 50}]"
      ]
     },
     "execution_count": 10,
     "metadata": {},
     "output_type": "execute_result"
    }
   ],
   "source": [
    "list_student"
   ]
  },
  {
   "cell_type": "code",
   "execution_count": 17,
   "metadata": {},
   "outputs": [],
   "source": [
    "def calMarksAvg(list_student):\n",
    "    for student in list_student:\n",
    "        print(student)\n",
    "        total_marks = 0\n",
    "        count = 0\n",
    "        for k,v in student.items():\n",
    "            if k != 'names':\n",
    "                total_marks += v\n",
    "                count += 1\n",
    "        student['avg'] = total_marks/count            "
   ]
  },
  {
   "cell_type": "code",
   "execution_count": 16,
   "metadata": {},
   "outputs": [
    {
     "ename": "TypeError",
     "evalue": "unsupported operand type(s) for +: 'int' and 'str'",
     "output_type": "error",
     "traceback": [
      "\u001b[1;31m---------------------------------------------------------------------------\u001b[0m",
      "\u001b[1;31mTypeError\u001b[0m                                 Traceback (most recent call last)",
      "\u001b[1;32m<ipython-input-16-83b2a7004e5b>\u001b[0m in \u001b[0;36m<module>\u001b[1;34m\u001b[0m\n\u001b[1;32m----> 1\u001b[1;33m \u001b[0mcalMarksAvg\u001b[0m\u001b[1;33m(\u001b[0m\u001b[0mlist_student\u001b[0m\u001b[1;33m)\u001b[0m\u001b[1;33m\u001b[0m\u001b[0m\n\u001b[0m",
      "\u001b[1;32m<ipython-input-15-8d6ef980ed56>\u001b[0m in \u001b[0;36mcalMarksAvg\u001b[1;34m(list_student)\u001b[0m\n\u001b[0;32m      5\u001b[0m         \u001b[1;32mfor\u001b[0m \u001b[0mk\u001b[0m\u001b[1;33m,\u001b[0m\u001b[0mv\u001b[0m \u001b[1;32min\u001b[0m \u001b[0mi\u001b[0m\u001b[1;33m.\u001b[0m\u001b[0mitems\u001b[0m\u001b[1;33m(\u001b[0m\u001b[1;33m)\u001b[0m\u001b[1;33m:\u001b[0m\u001b[1;33m\u001b[0m\u001b[0m\n\u001b[0;32m      6\u001b[0m             \u001b[1;32mif\u001b[0m \u001b[0mk\u001b[0m \u001b[1;33m!=\u001b[0m \u001b[1;34m'names'\u001b[0m\u001b[1;33m:\u001b[0m\u001b[1;33m\u001b[0m\u001b[0m\n\u001b[1;32m----> 7\u001b[1;33m                 \u001b[0mtotal_marks\u001b[0m \u001b[1;33m=\u001b[0m \u001b[0mtotal_marks\u001b[0m \u001b[1;33m+\u001b[0m \u001b[0mv\u001b[0m\u001b[1;33m\u001b[0m\u001b[0m\n\u001b[0m\u001b[0;32m      8\u001b[0m                 \u001b[0mcount\u001b[0m \u001b[1;33m+=\u001b[0m \u001b[1;36m1\u001b[0m\u001b[1;33m\u001b[0m\u001b[0m\n\u001b[0;32m      9\u001b[0m         \u001b[0mi\u001b[0m\u001b[1;33m[\u001b[0m\u001b[1;34m'avg'\u001b[0m\u001b[1;33m]\u001b[0m \u001b[1;33m=\u001b[0m \u001b[0mtotal_marks\u001b[0m\u001b[1;33m/\u001b[0m\u001b[0mcount\u001b[0m\u001b[1;33m\u001b[0m\u001b[0m\n",
      "\u001b[1;31mTypeError\u001b[0m: unsupported operand type(s) for +: 'int' and 'str'"
     ]
    }
   ],
   "source": [
    "calMarksAvg(list_student)"
   ]
  }
 ],
 "metadata": {
  "kernelspec": {
   "display_name": "Python 3",
   "language": "python",
   "name": "python3"
  },
  "language_info": {
   "codemirror_mode": {
    "name": "ipython",
    "version": 3
   },
   "file_extension": ".py",
   "mimetype": "text/x-python",
   "name": "python",
   "nbconvert_exporter": "python",
   "pygments_lexer": "ipython3",
   "version": "3.7.0a4"
  }
 },
 "nbformat": 4,
 "nbformat_minor": 2
}
