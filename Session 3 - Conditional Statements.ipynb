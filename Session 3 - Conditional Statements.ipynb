{
 "cells": [
  {
   "cell_type": "code",
   "execution_count": null,
   "metadata": {},
   "outputs": [],
   "source": [
    "Conditional Statements if elif else"
   ]
  },
  {
   "cell_type": "code",
   "execution_count": 8,
   "metadata": {},
   "outputs": [
    {
     "name": "stdout",
     "output_type": "stream",
     "text": [
      "num2 is greater 900\n"
     ]
    }
   ],
   "source": [
    "num1 = 600\n",
    "num2 = 900\n",
    "if num1 > num2 :\n",
    "    print(\"num1 is greater\",num1)\n",
    "elif num2 > num1 :\n",
    "    print(\"num2 is greater\",num2)\n",
    "else :\n",
    "    print(\"both are equal\",num1)"
   ]
  },
  {
   "cell_type": "code",
   "execution_count": 10,
   "metadata": {},
   "outputs": [
    {
     "name": "stdout",
     "output_type": "stream",
     "text": [
      "a is vowel\n"
     ]
    }
   ],
   "source": [
    "char = 'a'\n",
    "if char in 'aeiou':\n",
    "    print(char + \" is vowel\")\n",
    "else:\n",
    "    print(char + \" is a consonent\")"
   ]
  },
  {
   "cell_type": "code",
   "execution_count": null,
   "metadata": {},
   "outputs": [],
   "source": [
    "if [condition]:\n",
    "    statement\n",
    "else:\n",
    "    statement\n",
    "else:"
   ]
  },
  {
   "cell_type": "code",
   "execution_count": 11,
   "metadata": {},
   "outputs": [
    {
     "name": "stdout",
     "output_type": "stream",
     "text": [
      "Hello\n"
     ]
    }
   ],
   "source": [
    "if 0:\n",
    "    print(\"Hi\")\n",
    "else:\n",
    "    print(\"Hello\")"
   ]
  },
  {
   "cell_type": "code",
   "execution_count": null,
   "metadata": {},
   "outputs": [],
   "source": [
    "Any Non zero value is True in Python\n",
    "Any Zero value is False   0,None, \"\" , [],{},()"
   ]
  },
  {
   "cell_type": "code",
   "execution_count": null,
   "metadata": {},
   "outputs": [],
   "source": [
    "PEP 8\n",
    "\n",
    "The operators which returns TRUE or FALSE\n",
    "\n",
    "Comparision\n",
    "Membership\n",
    "Identity\n",
    "Logical"
   ]
  },
  {
   "cell_type": "code",
   "execution_count": 14,
   "metadata": {},
   "outputs": [
    {
     "name": "stdout",
     "output_type": "stream",
     "text": [
      "list is empty\n"
     ]
    }
   ],
   "source": [
    "l = []\n",
    "if l:\n",
    "    print(\"list is not empty\")\n",
    "else:\n",
    "    print(\"list is empty\")"
   ]
  },
  {
   "cell_type": "code",
   "execution_count": 15,
   "metadata": {},
   "outputs": [
    {
     "name": "stdout",
     "output_type": "stream",
     "text": [
      "list is not empty\n"
     ]
    }
   ],
   "source": [
    "l = [10,20,30,40]\n",
    "if l:\n",
    "    print(\"list is not empty\")\n",
    "else:\n",
    "    print(\"list is empty\")"
   ]
  },
  {
   "cell_type": "code",
   "execution_count": 17,
   "metadata": {},
   "outputs": [
    {
     "name": "stdout",
     "output_type": "stream",
     "text": [
      "4\n",
      "list is not empty\n"
     ]
    }
   ],
   "source": [
    "l = [1,2,3,4]\n",
    "print(len(l))\n",
    "if len(l) > 0:\n",
    "    print(\"list is not empty\")\n",
    "else:\n",
    "    print(\"list is empty\")"
   ]
  },
  {
   "cell_type": "code",
   "execution_count": 19,
   "metadata": {},
   "outputs": [
    {
     "name": "stdout",
     "output_type": "stream",
     "text": [
      "a is present\n"
     ]
    }
   ],
   "source": [
    "s = \"Python sample string\"\n",
    "if 'a' in s:\n",
    "    print(\"a is present\")\n",
    "else:\n",
    "    print(\"a is not present\")"
   ]
  },
  {
   "cell_type": "code",
   "execution_count": 21,
   "metadata": {},
   "outputs": [
    {
     "name": "stdout",
     "output_type": "stream",
     "text": [
      "a is present\n"
     ]
    }
   ],
   "source": [
    "s = \"Python sample string\"\n",
    "if 'a' not in s:\n",
    "    print(\"a is not present\")\n",
    "else:\n",
    "    print(\"a is present\")"
   ]
  },
  {
   "cell_type": "code",
   "execution_count": 24,
   "metadata": {},
   "outputs": [
    {
     "name": "stdout",
     "output_type": "stream",
     "text": [
      "pass\n"
     ]
    }
   ],
   "source": [
    "marks_obtained = 480\n",
    "total_marks = 500 \n",
    "\n",
    "percentage = (marks_obtained/total_marks)*100\n",
    "passing_per = 40\n",
    "\n",
    "if percentage > passing_per:\n",
    "    print(\"pass\")\n",
    "else:\n",
    "    print('fail')"
   ]
  },
  {
   "cell_type": "code",
   "execution_count": 28,
   "metadata": {},
   "outputs": [
    {
     "name": "stdout",
     "output_type": "stream",
     "text": [
      "even\n"
     ]
    }
   ],
   "source": [
    "num = 40\n",
    "if num % 2 == 0:\n",
    "    print(\"\"\"even\"\"\")\n",
    "else:\n",
    "    print(\"\"\"odd\"\"\")"
   ]
  },
  {
   "cell_type": "code",
   "execution_count": null,
   "metadata": {},
   "outputs": [],
   "source": [
    "currencies = 2000, 500, 100 , 50 ,10\n",
    "amount = 5560"
   ]
  },
  {
   "cell_type": "code",
   "execution_count": 35,
   "metadata": {},
   "outputs": [
    {
     "name": "stdout",
     "output_type": "stream",
     "text": [
      "Number of 2000 currencies 2\n",
      "Number of 500 currencies 3\n",
      "cann't issue 100 notes\n",
      "Number of 50 currencies 1\n",
      "Number of 10 currencies 1\n",
      "nmber of note count =  7\n"
     ]
    }
   ],
   "source": [
    "amount = 5560\n",
    "note_count = 0\n",
    "if amount >= 2000:\n",
    "    print(\"Number of 2000 currencies\", amount // 2000)\n",
    "    note_count += amount // 2000\n",
    "    amount = amount % 2000\n",
    "else:\n",
    "    print(\"cann't issue 2000 notes\")\n",
    "if amount >= 500:\n",
    "    print(\"Number of 500 currencies\", amount // 500)\n",
    "    note_count += amount // 500\n",
    "    amount = amount % 500\n",
    "else:\n",
    "    print(\"cann't issue 500 notes\")\n",
    "if amount >= 100:\n",
    "    print(\"Number of 100 currencies\", amount // 100)\n",
    "    note_count += amount // 100    \n",
    "    amount = amount % 100\n",
    "else:\n",
    "    print(\"cann't issue 100 notes\")\n",
    "if amount >= 50:\n",
    "    print(\"Number of 50 currencies\", amount // 50)\n",
    "    note_count += amount // 50\n",
    "    amount = amount % 50\n",
    "else:\n",
    "    print(\"cann't issue 50 notes\")\n",
    "if amount >= 10:\n",
    "    print(\"Number of 10 currencies\", amount // 10)\n",
    "    note_count += amount // 10\n",
    "    amount = amount % 10\n",
    "else:\n",
    "    print(\"cann't issue 10 notes\")\n",
    "    \n",
    "print(\"nmber of note count = \", note_count)    "
   ]
  },
  {
   "cell_type": "code",
   "execution_count": 36,
   "metadata": {},
   "outputs": [
    {
     "name": "stdout",
     "output_type": "stream",
     "text": [
      "1560\n"
     ]
    }
   ],
   "source": [
    "print(5560 % 2000)"
   ]
  },
  {
   "cell_type": "code",
   "execution_count": null,
   "metadata": {},
   "outputs": [],
   "source": [
    "rating = (1 - 5)\n",
    "tip% of total bill \n",
    "    1 10 \n",
    "    2 20\n",
    "    3 30\n",
    "    4 40\n",
    "    5 50"
   ]
  },
  {
   "cell_type": "code",
   "execution_count": 37,
   "metadata": {},
   "outputs": [
    {
     "name": "stdout",
     "output_type": "stream",
     "text": [
      "1200.0\n"
     ]
    }
   ],
   "source": [
    "rating = 2\n",
    "bill_amount = 1000\n",
    "tip = bill_amount * (rating*10)/100\n",
    "bill_amount = bill_amount + tip\n",
    "print(bill_amount)"
   ]
  },
  {
   "cell_type": "code",
   "execution_count": null,
   "metadata": {},
   "outputs": [],
   "source": [
    "0 None \"\" {} [] ()"
   ]
  },
  {
   "cell_type": "code",
   "execution_count": null,
   "metadata": {},
   "outputs": [],
   "source": [
    "if condition:\n",
    "    statements\n",
    "elif condition:\n",
    "    statements\n",
    "else:\n",
    "    statements"
   ]
  },
  {
   "cell_type": "code",
   "execution_count": null,
   "metadata": {},
   "outputs": [],
   "source": [
    "Assignment Problems\n",
    "\n",
    "    1.Given two numbers, print their sum. However, if the two numbers are the same, return double their sum."
   ]
  },
  {
   "cell_type": "code",
   "execution_count": 40,
   "metadata": {},
   "outputs": [
    {
     "name": "stdout",
     "output_type": "stream",
     "text": [
      "600\n"
     ]
    }
   ],
   "source": [
    "num1 = 400\n",
    "num2 = 200\n",
    "\n",
    "if num1 == num2 :\n",
    "    print(2*(num1 + num2))\n",
    "else:\n",
    "    print(num1 + num2)"
   ]
  },
  {
   "cell_type": "code",
   "execution_count": null,
   "metadata": {},
   "outputs": [],
   "source": [
    "2.Given a Cost price and Selling price of a product,write program to calculate profit or loss"
   ]
  },
  {
   "cell_type": "code",
   "execution_count": 47,
   "metadata": {},
   "outputs": [
    {
     "name": "stdout",
     "output_type": "stream",
     "text": [
      "profit= 20\n"
     ]
    }
   ],
   "source": [
    "selling_price = 100\n",
    "cost_price = 80\n",
    "\n",
    "if selling_price > cost_price:\n",
    "    print(\"profit=\",selling_price - cost_price) \n",
    "elif cost_price > selling_price:\n",
    "    print(\"loss=\",cost_price - selling_price)\n",
    "else:\n",
    "    print(\"NO profit or Loss\")"
   ]
  },
  {
   "cell_type": "code",
   "execution_count": null,
   "metadata": {},
   "outputs": [],
   "source": [
    "3.Write a program to input basic salary of an employee and calculate gross salary according to given conditions. \n",
    "Basic Salary <= 10000 : HRA = 20%, DA = 80% Basic Salary is between 10001 to 20000 : HRA = 25%, DA = 90% \n",
    "Basic Salary >= 20001 : HRA = 30%, DA = 95%"
   ]
  },
  {
   "cell_type": "code",
   "execution_count": 52,
   "metadata": {},
   "outputs": [
    {
     "name": "stdout",
     "output_type": "stream",
     "text": [
      "32250.0\n"
     ]
    }
   ],
   "source": [
    "basic_salary = 15000\n",
    "\n",
    "if basic_salary <= 10000:\n",
    "    hra = (basic_salary * 20) / 100\n",
    "    DA = (basic_salary * 80) / 100\n",
    "elif basic_salary < 20000:\n",
    "    hra = (basic_salary * 25) / 100\n",
    "    DA = (basic_salary * 90) / 100\n",
    "else:\n",
    "    hra = (basic_salary * 30) / 100\n",
    "    DA = (basic_salary * 95) / 100\n",
    "\n",
    "gross_salary = basic_salary + hra + DA\n",
    "print(gross_salary)"
   ]
  },
  {
   "cell_type": "code",
   "execution_count": null,
   "metadata": {},
   "outputs": [],
   "source": [
    "4.Write a program to check if given year is leap year or not.\n",
    "\n",
    "Leap year : A year is said to be leap year, if the year is exactly divisible by 4 but and not divisible by 100"
   ]
  },
  {
   "cell_type": "code",
   "execution_count": 55,
   "metadata": {},
   "outputs": [
    {
     "name": "stdout",
     "output_type": "stream",
     "text": [
      "Leap year\n"
     ]
    }
   ],
   "source": [
    "year = 2000\n",
    "if year % 4 == 0 and year % 100 != 0:\n",
    "    print(\"Leap year\")\n",
    "elif year % 4 == 0 and year % 100 == 0 and year % 400 == 0:\n",
    "    print(\"Leap year\")\n",
    "else:\n",
    "    print(\"not a Leap year\")"
   ]
  },
  {
   "cell_type": "code",
   "execution_count": null,
   "metadata": {},
   "outputs": [],
   "source": [
    "5.Write a program to check whether triangle is equilateral, scalene or isosceles A triangle is said Equilateral \n",
    "Triangle, if all its sides are equal. If a, b, c are three sides of triangle. Then, the triangle is equilateral \n",
    "only if a == b == c.\n",
    "\n",
    "A triangle is said Isosceles Triangle, if its two sides are equal. If a, b, c are three sides of triangle. Then, \n",
    "the     triangle is isosceles if either a == b or a == c or b == c.\n",
    "\n",
    "A triangle is said Scalene Triangle, if none of its sides are equal. "
   ]
  },
  {
   "cell_type": "code",
   "execution_count": 58,
   "metadata": {},
   "outputs": [
    {
     "name": "stdout",
     "output_type": "stream",
     "text": [
      "equilateral\n"
     ]
    }
   ],
   "source": [
    "a = 30\n",
    "b = 30\n",
    "c = 30\n",
    "\n",
    "if a == b == c :\n",
    "    print(\"equilateral\")\n",
    "elif a == b or b == c or c == a:\n",
    "    print(\"Isosceles\")\n",
    "else:\n",
    "    print(\"Scalene\")"
   ]
  }
 ],
 "metadata": {
  "kernelspec": {
   "display_name": "Python 3",
   "language": "python",
   "name": "python3"
  },
  "language_info": {
   "codemirror_mode": {
    "name": "ipython",
    "version": 3
   },
   "file_extension": ".py",
   "mimetype": "text/x-python",
   "name": "python",
   "nbconvert_exporter": "python",
   "pygments_lexer": "ipython3",
   "version": "3.7.0a4"
  }
 },
 "nbformat": 4,
 "nbformat_minor": 2
}
