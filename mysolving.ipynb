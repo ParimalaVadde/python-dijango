{
 "cells": [
  {
   "cell_type": "code",
   "execution_count": 1,
   "metadata": {},
   "outputs": [
    {
     "name": "stdout",
     "output_type": "stream",
     "text": [
      "8\n"
     ]
    }
   ],
   "source": [
    "l = [1,2,3,4,5,6,7,9,10]\n",
    "for i in range(1,11):\n",
    "    if i in l:\n",
    "        pass\n",
    "    else:\n",
    "        print(i)"
   ]
  },
  {
   "cell_type": "code",
   "execution_count": 3,
   "metadata": {},
   "outputs": [
    {
     "name": "stdout",
     "output_type": "stream",
     "text": [
      "missing_num =  8.0\n"
     ]
    }
   ],
   "source": [
    "n = 10\n",
    "sum1 = 0\n",
    "sum = n*(n+1)/2\n",
    "l = [1,2,3,4,5,6,7,9,10]\n",
    "for i in l:\n",
    "    sum1 += i\n",
    "print(\"missing_num = \",sum - sum1)\n",
    "\n",
    "    \n"
   ]
  },
  {
   "cell_type": "code",
   "execution_count": 15,
   "metadata": {},
   "outputs": [
    {
     "ename": "TypeError",
     "evalue": "'float' object is not callable",
     "output_type": "error",
     "traceback": [
      "\u001b[1;31m---------------------------------------------------------------------------\u001b[0m",
      "\u001b[1;31mTypeError\u001b[0m                                 Traceback (most recent call last)",
      "\u001b[1;32m<ipython-input-15-8cbce8ba48da>\u001b[0m in \u001b[0;36m<module>\u001b[1;34m\u001b[0m\n\u001b[0;32m      2\u001b[0m \u001b[1;32mfor\u001b[0m \u001b[0mindex\u001b[0m\u001b[1;33m,\u001b[0m\u001b[0mvalue\u001b[0m \u001b[1;32min\u001b[0m \u001b[0menumerate\u001b[0m\u001b[1;33m(\u001b[0m\u001b[0ml\u001b[0m\u001b[1;33m[\u001b[0m\u001b[1;36m1\u001b[0m\u001b[1;33m:\u001b[0m\u001b[1;33m]\u001b[0m\u001b[1;33m)\u001b[0m\u001b[1;33m:\u001b[0m\u001b[1;33m\u001b[0m\u001b[0m\n\u001b[0;32m      3\u001b[0m \u001b[1;33m\u001b[0m\u001b[0m\n\u001b[1;32m----> 4\u001b[1;33m     \u001b[1;32mif\u001b[0m \u001b[0msum\u001b[0m\u001b[1;33m(\u001b[0m\u001b[0ml\u001b[0m\u001b[1;33m[\u001b[0m\u001b[1;33m:\u001b[0m\u001b[0mindex\u001b[0m\u001b[1;33m]\u001b[0m\u001b[1;33m)\u001b[0m \u001b[1;33m==\u001b[0m \u001b[0msum\u001b[0m\u001b[1;33m(\u001b[0m\u001b[0ml\u001b[0m\u001b[1;33m[\u001b[0m\u001b[0mindex\u001b[0m \u001b[1;33m+\u001b[0m \u001b[1;36m1\u001b[0m\u001b[1;33m:\u001b[0m\u001b[1;33m]\u001b[0m\u001b[1;33m)\u001b[0m\u001b[1;33m:\u001b[0m\u001b[1;33m\u001b[0m\u001b[0m\n\u001b[0m\u001b[0;32m      5\u001b[0m \u001b[1;33m\u001b[0m\u001b[0m\n\u001b[0;32m      6\u001b[0m         \u001b[0mprint\u001b[0m\u001b[1;33m(\u001b[0m\u001b[1;34m\"eqi element is present at index {} and value is {}\"\u001b[0m\u001b[1;33m.\u001b[0m\u001b[0mformat\u001b[0m\u001b[1;33m(\u001b[0m\u001b[0mindex\u001b[0m\u001b[1;33m,\u001b[0m\u001b[0ml\u001b[0m\u001b[1;33m[\u001b[0m\u001b[0mindex\u001b[0m\u001b[1;33m]\u001b[0m\u001b[1;33m)\u001b[0m\u001b[1;33m)\u001b[0m\u001b[1;33m\u001b[0m\u001b[0m\n",
      "\u001b[1;31mTypeError\u001b[0m: 'float' object is not callable"
     ]
    }
   ],
   "source": [
    "l = [1,2,1,1,5,1,4]\n",
    "for index,value in enumerate(l[1:]):\n",
    "\n",
    "    if sum(l[:index]) == sum(l[index + 1:]):\n",
    "        \n",
    "        print(\"eqi element is present at index {} and value is {}\".format(index,l[index]))\n",
    "        break"
   ]
  },
  {
   "cell_type": "code",
   "execution_count": 18,
   "metadata": {},
   "outputs": [
    {
     "ename": "TypeError",
     "evalue": "'float' object is not callable",
     "output_type": "error",
     "traceback": [
      "\u001b[1;31m---------------------------------------------------------------------------\u001b[0m",
      "\u001b[1;31mTypeError\u001b[0m                                 Traceback (most recent call last)",
      "\u001b[1;32m<ipython-input-18-57aed83a97f9>\u001b[0m in \u001b[0;36m<module>\u001b[1;34m\u001b[0m\n\u001b[0;32m      1\u001b[0m \u001b[0ml\u001b[0m \u001b[1;33m=\u001b[0m \u001b[1;33m[\u001b[0m\u001b[1;36m1\u001b[0m\u001b[1;33m,\u001b[0m\u001b[1;36m2\u001b[0m\u001b[1;33m,\u001b[0m\u001b[1;36m1\u001b[0m\u001b[1;33m,\u001b[0m\u001b[1;36m1\u001b[0m\u001b[1;33m,\u001b[0m\u001b[1;36m5\u001b[0m\u001b[1;33m,\u001b[0m\u001b[1;36m1\u001b[0m\u001b[1;33m,\u001b[0m\u001b[1;36m4\u001b[0m\u001b[1;33m]\u001b[0m\u001b[1;33m\u001b[0m\u001b[0m\n\u001b[0;32m      2\u001b[0m \u001b[1;32mfor\u001b[0m \u001b[0mindex\u001b[0m\u001b[1;33m,\u001b[0m\u001b[0mvalue\u001b[0m \u001b[1;32min\u001b[0m \u001b[0menumerate\u001b[0m\u001b[1;33m(\u001b[0m\u001b[0ml\u001b[0m\u001b[1;33m[\u001b[0m\u001b[1;36m1\u001b[0m\u001b[1;33m:\u001b[0m\u001b[1;33m]\u001b[0m\u001b[1;33m)\u001b[0m\u001b[1;33m:\u001b[0m\u001b[1;33m\u001b[0m\u001b[0m\n\u001b[1;32m----> 3\u001b[1;33m     \u001b[1;32mif\u001b[0m \u001b[0msum\u001b[0m\u001b[1;33m(\u001b[0m\u001b[0ml\u001b[0m\u001b[1;33m[\u001b[0m\u001b[1;33m:\u001b[0m\u001b[0mindex\u001b[0m\u001b[1;33m]\u001b[0m\u001b[1;33m)\u001b[0m \u001b[1;33m==\u001b[0m \u001b[0msum\u001b[0m\u001b[1;33m(\u001b[0m\u001b[0ml\u001b[0m\u001b[1;33m[\u001b[0m\u001b[0mindex\u001b[0m \u001b[1;33m+\u001b[0m \u001b[1;36m1\u001b[0m\u001b[1;33m:\u001b[0m\u001b[1;33m]\u001b[0m\u001b[1;33m)\u001b[0m\u001b[1;33m:\u001b[0m\u001b[1;33m\u001b[0m\u001b[0m\n\u001b[0m\u001b[0;32m      4\u001b[0m         \u001b[0mprint\u001b[0m\u001b[1;33m(\u001b[0m\u001b[0mindex\u001b[0m\u001b[1;33m,\u001b[0m\u001b[0ml\u001b[0m\u001b[1;33m[\u001b[0m\u001b[0mindex\u001b[0m\u001b[1;33m]\u001b[0m\u001b[1;33m)\u001b[0m\u001b[1;33m\u001b[0m\u001b[0m\n\u001b[0;32m      5\u001b[0m         \u001b[1;32mbreak\u001b[0m\u001b[1;33m\u001b[0m\u001b[0m\n",
      "\u001b[1;31mTypeError\u001b[0m: 'float' object is not callable"
     ]
    }
   ],
   "source": [
    "l = [1,2,1,1,5,1,4]\n",
    "for index,value in enumerate(l[1:]):\n",
    "    if sum(l[:index]) == sum(l[index + 1:]):\n",
    "        print(index,l[index])\n",
    "        break\n",
    "    "
   ]
  },
  {
   "cell_type": "code",
   "execution_count": 21,
   "metadata": {},
   "outputs": [],
   "source": [
    "###Regular expression"
   ]
  },
  {
   "cell_type": "code",
   "execution_count": 2,
   "metadata": {},
   "outputs": [
    {
     "name": "stdout",
     "output_type": "stream",
     "text": [
      "4 5\n"
     ]
    }
   ],
   "source": [
    "l = [1,2,1,1,5,1,4]\n",
    "for index,value in enumerate(l[1:]):\n",
    "    if sum(l[:index]) == sum(l[index+1:]):\n",
    "        print(index,l[index])\n",
    "        break"
   ]
  },
  {
   "cell_type": "code",
   "execution_count": 15,
   "metadata": {},
   "outputs": [
    {
     "name": "stdout",
     "output_type": "stream",
     "text": [
      "valid\n",
      "['a', 'b', 'c'] ['a', 'b', 'c']\n",
      "['d', 'e', 'f'] ['d', 'e', 'f']\n"
     ]
    }
   ],
   "source": [
    "s1 = \"abc\"\n",
    "s2 = \"def\"\n",
    "s3 = \"dabecf\"\n",
    "s4 = []\n",
    "s5 = []\n",
    "\n",
    "for i in s3:\n",
    "    if i in s1:\n",
    "        s4.append(i)\n",
    "    elif i in s2:\n",
    "        s5.append(i)\n",
    "    else:\n",
    "        print(i ,\"is not present in s1 nor s2\")\n",
    "        \n",
    "s6 = list(s1)\n",
    "s7 = list(s2)\n",
    "if s4 == s6 and s5 == s7:\n",
    "    print(\"valid\")\n",
    "    \n",
    "print(s6,s4)\n",
    "print(s7,s5)\n",
    "        "
   ]
  },
  {
   "cell_type": "code",
   "execution_count": 25,
   "metadata": {},
   "outputs": [
    {
     "name": "stdout",
     "output_type": "stream",
     "text": [
      "valid string\n"
     ]
    }
   ],
   "source": [
    "s1 = \"abc\"\n",
    "s2 = \"def\"\n",
    "s3 = \"dabecf\"\n",
    "\n",
    "s1_pointer = s2_pointer = 0\n",
    "\n",
    "\n",
    "while s3_index < len(s3):\n",
    "    \n",
    "    if s3[s3_index] in s1 and s1[s1_pointer] == s3[s3_index]:\n",
    "        s1_pointer += 1\n",
    "    elif s3[s3_index] in s2 and s3[s3_index] == s2[s2_pointer]:\n",
    "        s2_pointer += 1\n",
    "    else :\n",
    "        print(\"not a valid string\")\n",
    "        break\n",
    "    s3_index +=1\n",
    "\n",
    "print(\"valid string\")  DAEBC\n"
   ]
  },
  {
   "cell_type": "code",
   "execution_count": 2,
   "metadata": {},
   "outputs": [
    {
     "name": "stdout",
     "output_type": "stream",
     "text": [
      "invalid\n"
     ]
    }
   ],
   "source": [
    "s1 = \"ABCD\"\n",
    "s2 = \"CADAB\"\n",
    "\n",
    "s2_pointer = 0\n",
    "s1_pointer = s1.find(s2[0])\n",
    "\n",
    "while s2_pointer < len(s2):\n",
    "    if s2[s2_pointer] == s1[s1_pointer]:\n",
    "        s2_pointer += 1\n",
    "        s1_pointer += 1\n",
    "        if s1_pointer == len(s2):\n",
    "            s1_pointer = s1_pointer - len(s2)\n",
    "    else:\n",
    "        print(\"invalid\")\n",
    "        break\n",
    "else:\n",
    "    print(\"valid\")\n",
    "            "
   ]
  },
  {
   "cell_type": "code",
   "execution_count": 5,
   "metadata": {},
   "outputs": [
    {
     "name": "stdout",
     "output_type": "stream",
     "text": [
      "ABCDABCD\n",
      "not a valid rotation\n"
     ]
    }
   ],
   "source": [
    "s1 = \"ABCD\"\n",
    "s2 = \"DBCA\"\n",
    "s3 = s1*2\n",
    "print(s3)\n",
    "if s2 in s3:\n",
    "    print(\"valid rotation\")\n",
    "else:\n",
    "    print(\"not a valid rotation\")"
   ]
  },
  {
   "cell_type": "code",
   "execution_count": 14,
   "metadata": {},
   "outputs": [
    {
     "name": "stdout",
     "output_type": "stream",
     "text": [
      "[(2, 5), (3, 4), (4, 3), (5, 2)]\n"
     ]
    }
   ],
   "source": [
    "l = [1,2,3,4,5]\n",
    "sum_seven_pairs = []\n",
    "for i in l:\n",
    "    for j in l:\n",
    "        if i+j == 7:\n",
    "            sum_seven_pairs.append((i,j))\n",
    "print(sum_seven_pairs)\n",
    "        "
   ]
  },
  {
   "cell_type": "code",
   "execution_count": 15,
   "metadata": {},
   "outputs": [
    {
     "name": "stdout",
     "output_type": "stream",
     "text": [
      "[(5, 2), (4, 3), (3, 4), (2, 5)]\n"
     ]
    }
   ],
   "source": [
    "expected_sum = 7\n",
    "pairs = []\n",
    "l = [1,2,3,4,5]\n",
    "for i in l:\n",
    "    num = expected_sum - i\n",
    "    if num in l:\n",
    "        pairs.append((num,i))\n",
    "print(pairs)\n",
    "        "
   ]
  },
  {
   "cell_type": "code",
   "execution_count": 23,
   "metadata": {},
   "outputs": [
    {
     "name": "stdout",
     "output_type": "stream",
     "text": [
      "['a', 'i', 'p', 'g', 's', 'q', 'i']\n",
      "aipgsqi\n"
     ]
    }
   ],
   "source": [
    "s1 = \"welcome\"\n",
    "l = []\n",
    "rotation = 4\n",
    "for i in s1:\n",
    "    if ord(i)+4 > 122:\n",
    "        l.append(chr((ord(i)+4)-26))\n",
    "    else:\n",
    "        l.append(chr(ord(i)+4))\n",
    "print(l)\n",
    "s = (\"\").join(l)\n",
    "print(s)\n"
   ]
  },
  {
   "cell_type": "code",
   "execution_count": 39,
   "metadata": {},
   "outputs": [
    {
     "name": "stdout",
     "output_type": "stream",
     "text": [
      "Anagram\n"
     ]
    }
   ],
   "source": [
    "s1 = \"ar my!@#\"\n",
    "s2 = \"ma ry\"\n",
    "l1 =[]\n",
    "l2 =[]\n",
    "for i in s1:\n",
    "    if i not in \"!@#$%^&*() \":\n",
    "        l1.append(i)\n",
    "\n",
    "for j in s2:\n",
    "    if j not in \"!@#$%^&*() \":\n",
    "        l2.append(j)\n",
    "\n",
    "if len(l1) == len(l2) and sorted(l1) == sorted(l2):\n",
    "    print(\"Anagram\")\n",
    "else:\n",
    "    print(\"NOT anagram\")\n",
    "        "
   ]
  },
  {
   "cell_type": "code",
   "execution_count": 41,
   "metadata": {},
   "outputs": [
    {
     "name": "stdout",
     "output_type": "stream",
     "text": [
      "['a', 'r', 'm', 'y']\n",
      "['m', 'a', 'r', 'y']\n",
      "Anagram\n"
     ]
    }
   ],
   "source": [
    "s1 = \"Ar my!@#\"\n",
    "s2 = \"ma ry\"\n",
    "l1 = []\n",
    "l2 = []\n",
    "\n",
    "for i in s1:\n",
    "    if i.isalpha():\n",
    "        l1.append(i.lower())\n",
    "for j in s2:\n",
    "    if j.isalpha():\n",
    "        l2.append(j.lower())\n",
    "print(l1)\n",
    "print(l2)\n",
    "\n",
    "if sorted(l1) == sorted(l2):\n",
    "    print(\"Anagram\")\n",
    "else:\n",
    "    print(\"NOT anagram\")    "
   ]
  },
  {
   "cell_type": "code",
   "execution_count": 42,
   "metadata": {},
   "outputs": [
    {
     "name": "stdout",
     "output_type": "stream",
     "text": [
      "all characters are repeated \n"
     ]
    }
   ],
   "source": [
    "s1 = \"hello\"\n",
    "for i in s1:\n",
    "    if s.count(i) == 1:\n",
    "        print(i)\n",
    "        break\n",
    "else:\n",
    "    print(\"all characters are repeated \")"
   ]
  },
  {
   "cell_type": "code",
   "execution_count": 1,
   "metadata": {},
   "outputs": [],
   "source": [
    "def checkString(word):\n",
    "    for i in word:\n",
    "        if i in \"aeiou\":\n",
    "            return True\n",
    "    return False"
   ]
  },
  {
   "cell_type": "code",
   "execution_count": 2,
   "metadata": {},
   "outputs": [],
   "source": [
    "def printing(s1):\n",
    "    crt = checkString(s1)\n",
    "    if crt:\n",
    "        print(s1)\n",
    "        print(s1)\n",
    "    else:\n",
    "        print(s1)"
   ]
  },
  {
   "cell_type": "code",
   "execution_count": 24,
   "metadata": {},
   "outputs": [
    {
     "data": {
      "text/plain": [
       "False"
      ]
     },
     "execution_count": 24,
     "metadata": {},
     "output_type": "execute_result"
    }
   ],
   "source": [
    "checkString('pari')"
   ]
  },
  {
   "cell_type": "code",
   "execution_count": 1,
   "metadata": {},
   "outputs": [],
   "source": [
    "def studentsList(list_student,**info):\n",
    "    list_student.append(info)"
   ]
  },
  {
   "cell_type": "code",
   "execution_count": 2,
   "metadata": {},
   "outputs": [],
   "source": [
    "list_student = []\n",
    "studentsList(list_student,name = 'abc',english = 45,maths = 42,science = 46)"
   ]
  },
  {
   "cell_type": "code",
   "execution_count": 3,
   "metadata": {},
   "outputs": [],
   "source": [
    "studentsList(list_student,name = 'def',english = 45,maths = 42,science = 46)\n",
    "studentsList(list_student,name = 'hal',english = 43,maths = 49,science = 41)\n",
    "studentsList(list_student,name = 'vpb',english = 45,maths = 42,science = 50)"
   ]
  },
  {
   "cell_type": "code",
   "execution_count": 4,
   "metadata": {},
   "outputs": [
    {
     "data": {
      "text/plain": [
       "[{'name': 'abc', 'english': 45, 'maths': 42, 'science': 46},\n",
       " {'name': 'def', 'english': 45, 'maths': 42, 'science': 46},\n",
       " {'name': 'hal', 'english': 43, 'maths': 49, 'science': 41},\n",
       " {'name': 'vpb', 'english': 45, 'maths': 42, 'science': 50}]"
      ]
     },
     "execution_count": 4,
     "metadata": {},
     "output_type": "execute_result"
    }
   ],
   "source": [
    "list_student"
   ]
  },
  {
   "cell_type": "code",
   "execution_count": 10,
   "metadata": {},
   "outputs": [],
   "source": [
    "def calMarksAvg(list_student):\n",
    "    for i in list_student:\n",
    "        \n",
    "        total_marks = 0\n",
    "        count = 0\n",
    "        for k,v in i.items():\n",
    "            if k != 'names':\n",
    "                total_marks += v\n",
    "                count += 1\n",
    "        i['avg'] = total_marks/count"
   ]
  },
  {
   "cell_type": "code",
   "execution_count": 11,
   "metadata": {},
   "outputs": [
    {
     "ename": "TypeError",
     "evalue": "unsupported operand type(s) for +=: 'int' and 'str'",
     "output_type": "error",
     "traceback": [
      "\u001b[1;31m---------------------------------------------------------------------------\u001b[0m",
      "\u001b[1;31mTypeError\u001b[0m                                 Traceback (most recent call last)",
      "\u001b[1;32m<ipython-input-11-83b2a7004e5b>\u001b[0m in \u001b[0;36m<module>\u001b[1;34m\u001b[0m\n\u001b[1;32m----> 1\u001b[1;33m \u001b[0mcalMarksAvg\u001b[0m\u001b[1;33m(\u001b[0m\u001b[0mlist_student\u001b[0m\u001b[1;33m)\u001b[0m\u001b[1;33m\u001b[0m\u001b[0m\n\u001b[0m",
      "\u001b[1;32m<ipython-input-10-f5ed9a3067e9>\u001b[0m in \u001b[0;36mcalMarksAvg\u001b[1;34m(list_student)\u001b[0m\n\u001b[0;32m      6\u001b[0m         \u001b[1;32mfor\u001b[0m \u001b[0mk\u001b[0m\u001b[1;33m,\u001b[0m\u001b[0mv\u001b[0m \u001b[1;32min\u001b[0m \u001b[0mi\u001b[0m\u001b[1;33m.\u001b[0m\u001b[0mitems\u001b[0m\u001b[1;33m(\u001b[0m\u001b[1;33m)\u001b[0m\u001b[1;33m:\u001b[0m\u001b[1;33m\u001b[0m\u001b[0m\n\u001b[0;32m      7\u001b[0m             \u001b[1;32mif\u001b[0m \u001b[0mk\u001b[0m \u001b[1;33m!=\u001b[0m \u001b[1;34m'names'\u001b[0m\u001b[1;33m:\u001b[0m\u001b[1;33m\u001b[0m\u001b[0m\n\u001b[1;32m----> 8\u001b[1;33m                 \u001b[0mtotal_marks\u001b[0m \u001b[1;33m+=\u001b[0m \u001b[0mv\u001b[0m\u001b[1;33m\u001b[0m\u001b[0m\n\u001b[0m\u001b[0;32m      9\u001b[0m                 \u001b[0mcount\u001b[0m \u001b[1;33m+=\u001b[0m \u001b[1;36m1\u001b[0m\u001b[1;33m\u001b[0m\u001b[0m\n\u001b[0;32m     10\u001b[0m         \u001b[0mi\u001b[0m\u001b[1;33m[\u001b[0m\u001b[1;34m'avg'\u001b[0m\u001b[1;33m]\u001b[0m \u001b[1;33m=\u001b[0m \u001b[0mtotal_marks\u001b[0m\u001b[1;33m/\u001b[0m\u001b[0mcount\u001b[0m\u001b[1;33m\u001b[0m\u001b[0m\n",
      "\u001b[1;31mTypeError\u001b[0m: unsupported operand type(s) for +=: 'int' and 'str'"
     ]
    }
   ],
   "source": [
    "calMarksAvg(list_student)"
   ]
  },
  {
   "cell_type": "code",
   "execution_count": 24,
   "metadata": {},
   "outputs": [],
   "source": [
    "def calMarksAvg(list_student):\n",
    "    for i in list_student:\n",
    "        total_marks = 0\n",
    "        count = 0\n",
    "        for k,v in i.items():\n",
    "            if k != 'name':\n",
    "                total_marks += v\n",
    "                count += 1\n",
    "        i['avg'] = total_marks/count"
   ]
  },
  {
   "cell_type": "code",
   "execution_count": 25,
   "metadata": {},
   "outputs": [],
   "source": [
    "calMarksAvg(list_student)"
   ]
  },
  {
   "cell_type": "code",
   "execution_count": 26,
   "metadata": {},
   "outputs": [
    {
     "data": {
      "text/plain": [
       "[{'name': 'abc',\n",
       "  'english': 45,\n",
       "  'maths': 42,\n",
       "  'science': 46,\n",
       "  'avg': 44.333333333333336},\n",
       " {'name': 'def',\n",
       "  'english': 45,\n",
       "  'maths': 42,\n",
       "  'science': 46,\n",
       "  'avg': 44.333333333333336},\n",
       " {'name': 'hal',\n",
       "  'english': 43,\n",
       "  'maths': 49,\n",
       "  'science': 41,\n",
       "  'avg': 44.333333333333336},\n",
       " {'name': 'vpb',\n",
       "  'english': 45,\n",
       "  'maths': 42,\n",
       "  'science': 50,\n",
       "  'avg': 45.666666666666664}]"
      ]
     },
     "execution_count": 26,
     "metadata": {},
     "output_type": "execute_result"
    }
   ],
   "source": [
    "list_student"
   ]
  },
  {
   "cell_type": "code",
   "execution_count": 42,
   "metadata": {},
   "outputs": [],
   "source": [
    "def finddingTopper(list_student):\n",
    "    def f(e):\n",
    "        return e['maths']\n",
    "    return max(list_student,key=f)"
   ]
  },
  {
   "cell_type": "code",
   "execution_count": 41,
   "metadata": {},
   "outputs": [],
   "source": [
    "def f(e):\n",
    "    return e['maths']\n",
    "    return max(list_student,key=f)"
   ]
  },
  {
   "cell_type": "code",
   "execution_count": 43,
   "metadata": {},
   "outputs": [
    {
     "data": {
      "text/plain": [
       "{'name': 'hal',\n",
       " 'english': 43,\n",
       " 'maths': 49,\n",
       " 'science': 41,\n",
       " 'avg': 44.333333333333336}"
      ]
     },
     "execution_count": 43,
     "metadata": {},
     "output_type": "execute_result"
    }
   ],
   "source": [
    "finddingTopper(list_student)"
   ]
  },
  {
   "cell_type": "code",
   "execution_count": 44,
   "metadata": {},
   "outputs": [],
   "source": [
    "topper = finddingTopper(list_student)"
   ]
  },
  {
   "cell_type": "code",
   "execution_count": 36,
   "metadata": {},
   "outputs": [
    {
     "data": {
      "text/plain": [
       "'hal'"
      ]
     },
     "execution_count": 36,
     "metadata": {},
     "output_type": "execute_result"
    }
   ],
   "source": [
    "topper['name']"
   ]
  },
  {
   "cell_type": "code",
   "execution_count": 37,
   "metadata": {},
   "outputs": [
    {
     "data": {
      "text/plain": [
       "[{'name': 'abc',\n",
       "  'english': 45,\n",
       "  'maths': 42,\n",
       "  'science': 46,\n",
       "  'avg': 44.333333333333336},\n",
       " {'name': 'def',\n",
       "  'english': 45,\n",
       "  'maths': 42,\n",
       "  'science': 46,\n",
       "  'avg': 44.333333333333336},\n",
       " {'name': 'vpb',\n",
       "  'english': 45,\n",
       "  'maths': 42,\n",
       "  'science': 50,\n",
       "  'avg': 45.666666666666664},\n",
       " {'name': 'hal',\n",
       "  'english': 43,\n",
       "  'maths': 49,\n",
       "  'science': 41,\n",
       "  'avg': 44.333333333333336}]"
      ]
     },
     "execution_count": 37,
     "metadata": {},
     "output_type": "execute_result"
    }
   ],
   "source": [
    "sorted(list_student,key=f)"
   ]
  }
 ],
 "metadata": {
  "kernelspec": {
   "display_name": "Python 3",
   "language": "python",
   "name": "python3"
  },
  "language_info": {
   "codemirror_mode": {
    "name": "ipython",
    "version": 3
   },
   "file_extension": ".py",
   "mimetype": "text/x-python",
   "name": "python",
   "nbconvert_exporter": "python",
   "pygments_lexer": "ipython3",
   "version": "3.7.0a4"
  }
 },
 "nbformat": 4,
 "nbformat_minor": 2
}
