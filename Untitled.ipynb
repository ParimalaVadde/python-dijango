{
 "cells": [
  {
   "cell_type": "code",
   "execution_count": 1,
   "metadata": {},
   "outputs": [
    {
     "name": "stdout",
     "output_type": "stream",
     "text": [
      "300\n"
     ]
    }
   ],
   "source": [
    "num1 = 100\n",
    "num2 = 200\n",
    "print(num1 + num2)"
   ]
  },
  {
   "cell_type": "code",
   "execution_count": 4,
   "metadata": {},
   "outputs": [
    {
     "name": "stdout",
     "output_type": "stream",
     "text": [
      "nohtyp\n"
     ]
    }
   ],
   "source": [
    "s1='python is easy to learn'\n",
    "print(s1[5::-1])"
   ]
  },
  {
   "cell_type": "code",
   "execution_count": 6,
   "metadata": {},
   "outputs": [
    {
     "name": "stdout",
     "output_type": "stream",
     "text": [
      "r\n"
     ]
    }
   ],
   "source": [
    "s = \"abcdaabbeededzzzaaaarrrrrrrrrr\"\n",
    "c = 0\n",
    "for i in s:\n",
    "    if s.count(i) > c:\n",
    "      c=s.count(i)\n",
    "      max=i\n",
    "print(max)\n"
   ]
  },
  {
   "cell_type": "code",
   "execution_count": 7,
   "metadata": {},
   "outputs": [
    {
     "name": "stdout",
     "output_type": "stream",
     "text": [
      "True\n"
     ]
    }
   ],
   "source": [
    "s=\" \"\n",
    "print(s.isspace())"
   ]
  },
  {
   "cell_type": "code",
   "execution_count": 8,
   "metadata": {},
   "outputs": [
    {
     "name": "stdout",
     "output_type": "stream",
     "text": [
      "LEArnIng PythOn Is EAsy\n"
     ]
    }
   ],
   "source": [
    "s = \"Learning Python is easy\"\n",
    "s2 = \"\"\n",
    "for value in s:\n",
    "    if value in \"aeiou\":\n",
    "        s2 = s2 + value.upper()\n",
    "    else:\n",
    "        s2 = s2 + value\n",
    "print(s2)\n"
   ]
  },
  {
   "cell_type": "code",
   "execution_count": null,
   "metadata": {},
   "outputs": [],
   "source": [
    "for i in s1:\n",
    "    if i in 'aeiou':\n",
    "        s2 = s2 + s1.upper(i)\n",
    "    else:\n",
    "        s2 = s2 + i\n",
    "print(s2)"
   ]
  },
  {
   "cell_type": "code",
   "execution_count": 1,
   "metadata": {},
   "outputs": [],
   "source": [
    "val = 0\n",
    "\n",
    "def jackFunc(val):\n",
    "    val += 2\n",
    "    return val\n",
    "\n",
    "def jillFunc(val):\n",
    "    val -= 1\n",
    "    return val"
   ]
  },
  {
   "cell_type": "code",
   "execution_count": 2,
   "metadata": {},
   "outputs": [],
   "source": [
    "o = 0\n",
    "while o < 10:\n",
    "    val = jillFunc(val)\n",
    "    o +=1"
   ]
  },
  {
   "cell_type": "code",
   "execution_count": 3,
   "metadata": {},
   "outputs": [
    {
     "data": {
      "text/plain": [
       "-10"
      ]
     },
     "execution_count": 3,
     "metadata": {},
     "output_type": "execute_result"
    }
   ],
   "source": [
    "val"
   ]
  },
  {
   "cell_type": "code",
   "execution_count": 36,
   "metadata": {},
   "outputs": [],
   "source": [
    "def mySumFunc(*args):\n",
    "    mul = 1\n",
    "    for i in args:\n",
    "        if i % 2 == 0:\n",
    "            mul *= i \n",
    "    print(mul)"
   ]
  },
  {
   "cell_type": "code",
   "execution_count": 38,
   "metadata": {},
   "outputs": [
    {
     "name": "stdout",
     "output_type": "stream",
     "text": [
      "40\n"
     ]
    }
   ],
   "source": [
    "mySumFunc(10,21,11,4)"
   ]
  },
  {
   "cell_type": "code",
   "execution_count": 26,
   "metadata": {},
   "outputs": [
    {
     "name": "stdout",
     "output_type": "stream",
     "text": [
      "80\n"
     ]
    }
   ],
   "source": [
    "mul =1\n",
    "for i in (10,21,2,4):\n",
    "    if i % 2 == 0:\n",
    "        mul *= i \n",
    "print(mul)"
   ]
  },
  {
   "cell_type": "code",
   "execution_count": 51,
   "metadata": {},
   "outputs": [],
   "source": [
    "def evenWordsCollector(*args):\n",
    "    l = []\n",
    "    for i in args:\n",
    "        if len(i) % 2 == 0:\n",
    "            l.append(i)\n",
    "    res = '*'.join(l)\n",
    "    return res"
   ]
  },
  {
   "cell_type": "code",
   "execution_count": 52,
   "metadata": {},
   "outputs": [
    {
     "data": {
      "text/plain": [
       "'pari*vaishu*janu*baby'"
      ]
     },
     "execution_count": 52,
     "metadata": {},
     "output_type": "execute_result"
    }
   ],
   "source": [
    "evenWordsCollector('pari','vamsy','vaishu','eshrath','farha','janu','baby')"
   ]
  },
  {
   "cell_type": "code",
   "execution_count": 67,
   "metadata": {},
   "outputs": [],
   "source": [
    "def createEmpData(list_emp,**kwargs):\n",
    "    list_emp.append(kwargs)"
   ]
  },
  {
   "cell_type": "code",
   "execution_count": 70,
   "metadata": {},
   "outputs": [],
   "source": [
    "list_emp = []\n",
    "createEmpData(list_emp,name='abc',age=19)"
   ]
  },
  {
   "cell_type": "code",
   "execution_count": 71,
   "metadata": {},
   "outputs": [],
   "source": [
    "createEmpData(list_emp,name='def',age=20,location='bangalore')"
   ]
  },
  {
   "cell_type": "code",
   "execution_count": 72,
   "metadata": {},
   "outputs": [
    {
     "data": {
      "text/plain": [
       "[{'name': 'abc', 'age': 19},\n",
       " {'name': 'def', 'age': 20, 'location': 'bangalore'}]"
      ]
     },
     "execution_count": 72,
     "metadata": {},
     "output_type": "execute_result"
    }
   ],
   "source": [
    "list_emp"
   ]
  },
  {
   "cell_type": "code",
   "execution_count": 75,
   "metadata": {},
   "outputs": [
    {
     "data": {
      "text/plain": [
       "'abc'"
      ]
     },
     "execution_count": 75,
     "metadata": {},
     "output_type": "execute_result"
    }
   ],
   "source": [
    "list_emp[0]['name']"
   ]
  },
  {
   "cell_type": "code",
   "execution_count": 76,
   "metadata": {},
   "outputs": [],
   "source": [
    "createEmpData(list_emp,name='ghi',age=20,location='bangalore',salary=10000)"
   ]
  },
  {
   "cell_type": "code",
   "execution_count": 77,
   "metadata": {},
   "outputs": [
    {
     "data": {
      "text/plain": [
       "[{'name': 'abc', 'age': 19},\n",
       " {'name': 'def', 'age': 20, 'location': 'bangalore'},\n",
       " {'name': 'ghi', 'age': 20, 'location': 'bangalore', 'salary': 10000}]"
      ]
     },
     "execution_count": 77,
     "metadata": {},
     "output_type": "execute_result"
    }
   ],
   "source": [
    "list_emp"
   ]
  },
  {
   "cell_type": "code",
   "execution_count": 78,
   "metadata": {},
   "outputs": [],
   "source": [
    "createEmpData(list_emp,name='klm',age=20,location='bangalore',salary=50000)"
   ]
  },
  {
   "cell_type": "code",
   "execution_count": 79,
   "metadata": {},
   "outputs": [
    {
     "data": {
      "text/plain": [
       "[{'name': 'abc', 'age': 19},\n",
       " {'name': 'def', 'age': 20, 'location': 'bangalore'},\n",
       " {'name': 'ghi', 'age': 20, 'location': 'bangalore', 'salary': 10000},\n",
       " {'name': 'klm', 'age': 20, 'location': 'bangalore', 'salary': 50000}]"
      ]
     },
     "execution_count": 79,
     "metadata": {},
     "output_type": "execute_result"
    }
   ],
   "source": [
    "list_emp"
   ]
  },
  {
   "cell_type": "code",
   "execution_count": 81,
   "metadata": {},
   "outputs": [
    {
     "name": "stdout",
     "output_type": "stream",
     "text": [
      "{'name': 'def', 'age': 20, 'location': 'bangalore'}\n",
      "{'name': 'ghi', 'age': 20, 'location': 'bangalore', 'salary': 10000}\n",
      "{'name': 'klm', 'age': 20, 'location': 'bangalore', 'salary': 50000}\n"
     ]
    }
   ],
   "source": [
    "for emp in list_emp:\n",
    "    if 'location' in emp:\n",
    "        print(emp)"
   ]
  },
  {
   "cell_type": "code",
   "execution_count": 107,
   "metadata": {},
   "outputs": [],
   "source": [
    "def getPeopleSalary(list_emp,salary=50000):\n",
    "    res = []\n",
    "    for i in list_emp:\n",
    "        if 'salary' in i and i['salary'] >= 50000:\n",
    "            res.append(i)\n",
    "    return res"
   ]
  },
  {
   "cell_type": "code",
   "execution_count": 108,
   "metadata": {},
   "outputs": [
    {
     "data": {
      "text/plain": [
       "[{'name': 'klm', 'age': 20, 'location': 'bangalore', 'salary': 50000}]"
      ]
     },
     "execution_count": 108,
     "metadata": {},
     "output_type": "execute_result"
    }
   ],
   "source": [
    "getPeopleSalary(list_emp,salary=50000)"
   ]
  },
  {
   "cell_type": "code",
   "execution_count": 109,
   "metadata": {},
   "outputs": [],
   "source": [
    "def studentMarks(list_students,**marks):\n",
    "    list_students.append(marks)"
   ]
  },
  {
   "cell_type": "code",
   "execution_count": 111,
   "metadata": {},
   "outputs": [],
   "source": [
    "list_students = []\n",
    "studentMarks(list_students,name = 'abc',maths = 40,english=42)"
   ]
  },
  {
   "cell_type": "code",
   "execution_count": 112,
   "metadata": {},
   "outputs": [],
   "source": [
    "studentMarks(list_students,name = 'def',maths = 40,english=40)"
   ]
  },
  {
   "cell_type": "code",
   "execution_count": 113,
   "metadata": {},
   "outputs": [],
   "source": [
    "studentMarks(list_students,name = 'ghi',maths = 43,english=49)"
   ]
  },
  {
   "cell_type": "code",
   "execution_count": 114,
   "metadata": {},
   "outputs": [],
   "source": [
    "studentMarks(list_students,name = 'jkl',maths = 50,english=45)"
   ]
  },
  {
   "cell_type": "code",
   "execution_count": 115,
   "metadata": {},
   "outputs": [],
   "source": [
    "studentMarks(list_students,name = 'abc',maths = 41,english=43)"
   ]
  },
  {
   "cell_type": "code",
   "execution_count": 116,
   "metadata": {},
   "outputs": [
    {
     "data": {
      "text/plain": [
       "[{'name': 'abc', 'maths': 40, 'english': 42},\n",
       " {'name': 'def', 'maths': 40, 'english': 40},\n",
       " {'name': 'ghi', 'maths': 43, 'english': 49},\n",
       " {'name': 'jkl', 'maths': 50, 'english': 45},\n",
       " {'name': 'abc', 'maths': 41, 'english': 43}]"
      ]
     },
     "execution_count": 116,
     "metadata": {},
     "output_type": "execute_result"
    }
   ],
   "source": [
    "list_students"
   ]
  },
  {
   "cell_type": "code",
   "execution_count": 148,
   "metadata": {},
   "outputs": [],
   "source": [
    "def findingTopper(list_students):\n",
    "    max = 0\n",
    "    for i in list_students:\n",
    "        if ((i['maths']+i['english'])/100)*100 > max:\n",
    "            max = ((i['maths']+i['english'])/100)*100\n",
    "        else:\n",
    "            pass\n",
    "    print(max)\n",
    "    for i in list_students:\n",
    "        if ((i['maths']+i['english'])/100)*100 == max:\n",
    "            print(i)        "
   ]
  },
  {
   "cell_type": "code",
   "execution_count": 149,
   "metadata": {},
   "outputs": [
    {
     "name": "stdout",
     "output_type": "stream",
     "text": [
      "95.0\n",
      "{'name': 'jkl', 'maths': 50, 'english': 45}\n"
     ]
    }
   ],
   "source": [
    "findingTopper(list_students)"
   ]
  },
  {
   "cell_type": "code",
   "execution_count": 147,
   "metadata": {},
   "outputs": [
    {
     "name": "stdout",
     "output_type": "stream",
     "text": [
      "95.0\n",
      "{'name': 'jkl', 'maths': 50, 'english': 45}\n"
     ]
    }
   ],
   "source": [
    "max = 0\n",
    "for i in list_students:\n",
    "    if ((i['maths']+i['english'])/100)*100 > max:\n",
    "        max = ((i['maths']+i['english'])/100)*100\n",
    "    else:\n",
    "        pass\n",
    "print(max)\n",
    "for i in list_students:\n",
    "    if ((i['maths']+i['english'])/100)*100 == max:\n",
    "        print(i)"
   ]
  }
 ],
 "metadata": {
  "kernelspec": {
   "display_name": "Python 3",
   "language": "python",
   "name": "python3"
  },
  "language_info": {
   "codemirror_mode": {
    "name": "ipython",
    "version": 3
   },
   "file_extension": ".py",
   "mimetype": "text/x-python",
   "name": "python",
   "nbconvert_exporter": "python",
   "pygments_lexer": "ipython3",
   "version": "3.7.0a4"
  }
 },
 "nbformat": 4,
 "nbformat_minor": 2
}
